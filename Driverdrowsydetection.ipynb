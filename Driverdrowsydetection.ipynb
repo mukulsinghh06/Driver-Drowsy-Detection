{
 "cells": [
  {
   "cell_type": "code",
   "execution_count": 1,
   "id": "7156712c-4949-4e57-a3bb-7a3914df7645",
   "metadata": {},
   "outputs": [
    {
     "name": "stdout",
     "output_type": "stream",
     "text": [
      "pygame 2.6.0 (SDL 2.28.4, Python 3.12.4)\n",
      "Hello from the pygame community. https://www.pygame.org/contribute.html\n"
     ]
    },
    {
     "name": "stderr",
     "output_type": "stream",
     "text": [
      "C:\\Users\\mukul\\AppData\\Local\\Programs\\Python\\Python312\\Lib\\site-packages\\google\\protobuf\\symbol_database.py:55: UserWarning: SymbolDatabase.GetPrototype() is deprecated. Please use message_factory.GetMessageClass() instead. SymbolDatabase.GetPrototype() will be removed soon.\n",
      "  warnings.warn('SymbolDatabase.GetPrototype() is deprecated. Please '\n"
     ]
    }
   ],
   "source": [
    "import cv2\n",
    "import pygame\n",
    "import numpy as np\n",
    "from scipy.spatial import distance as dist\n",
    "import mediapipe as mp\n",
    "\n",
    "# Initialize Pygame mixer for alarm sound\n",
    "pygame.mixer.init()\n",
    "sound = pygame.mixer.Sound('beep-warning-6387.mp3')\n",
    "\n",
    "# Constants\n",
    "EYE_AR_THRESH = 0.3\n",
    "EYE_AR_CONSEC_FRAMES = 100  # 10 seconds at 30 fps\n",
    "TRANSPARENCY = 0.4  # Transparency factor for the overlay\n",
    "\n",
    "# Function to compute the eye aspect ratio (EAR)\n",
    "def eye_aspect_ratio(eye):\n",
    "    A = dist.euclidean(eye[1], eye[5])\n",
    "    B = dist.euclidean(eye[2], eye[4])\n",
    "    C = dist.euclidean(eye[0], eye[3])\n",
    "    ear = (A + B) / (2.0 * C)\n",
    "    return ear\n",
    "\n",
    "# Initialize Mediapipe Face Mesh\n",
    "mp_face_mesh = mp.solutions.face_mesh\n",
    "face_mesh = mp_face_mesh.FaceMesh(max_num_faces=1, refine_landmarks=True)\n",
    "\n",
    "# Initialize video capture\n",
    "cap = cv2.VideoCapture(0)\n",
    "frame_counter = 0\n",
    "drowsy = False\n",
    "\n",
    "while True:\n",
    "    ret, frame = cap.read()\n",
    "    if not ret:\n",
    "        break\n",
    "    \n",
    "    frame_rgb = cv2.cvtColor(frame, cv2.COLOR_BGR2RGB)\n",
    "    results = face_mesh.process(frame_rgb)\n",
    "    \n",
    "    if results.multi_face_landmarks:\n",
    "        for face_landmarks in results.multi_face_landmarks:\n",
    "            leftEye = [face_landmarks.landmark[i] for i in [33, 160, 158, 133, 153, 144]]\n",
    "            rightEye = [face_landmarks.landmark[i] for i in [362, 385, 387, 263, 373, 380]]\n",
    "            \n",
    "            leftEye = [(int(p.x * frame.shape[1]), int(p.y * frame.shape[0])) for p in leftEye]\n",
    "            rightEye = [(int(p.x * frame.shape[1]), int(p.y * frame.shape[0])) for p in rightEye]\n",
    "            \n",
    "            # Remove the polylines drawing code\n",
    "            \n",
    "            leftEAR = eye_aspect_ratio(leftEye)\n",
    "            rightEAR = eye_aspect_ratio(rightEye)\n",
    "            \n",
    "            ear = (leftEAR + rightEAR) / 2.0\n",
    "            \n",
    "            if ear < EYE_AR_THRESH:\n",
    "                frame_counter += 1\n",
    "                if frame_counter >= EYE_AR_CONSEC_FRAMES:\n",
    "                    if not drowsy:\n",
    "                        sound.play()\n",
    "                        drowsy = True\n",
    "                    # Create a transparent overlay\n",
    "                    overlay = frame.copy()\n",
    "                    overlay[:] = (0, 0, 255)  # Red overlay\n",
    "                    frame = cv2.addWeighted(overlay, TRANSPARENCY, frame, 1 - TRANSPARENCY, 0)\n",
    "                    cv2.putText(frame, \"DROWSINESS DETECTED\", (10, 30), cv2.FONT_HERSHEY_SIMPLEX, 0.7, (255, 255, 255), 2)\n",
    "            else:\n",
    "                frame_counter = 0\n",
    "                if drowsy:\n",
    "                    sound.stop()\n",
    "                    drowsy = False\n",
    "                # Add active status indicator\n",
    "                cv2.putText(frame, \"ACTIVE\", (10, 30), cv2.FONT_HERSHEY_SIMPLEX, 0.7, (0, 255, 0), 2)\n",
    "    else:\n",
    "        # If no face is detected, show \"No Face Detected\" message\n",
    "        cv2.putText(frame, \"No Face Detected\", (10, 30), cv2.FONT_HERSHEY_SIMPLEX, 0.7, (0, 0, 255), 2)\n",
    "    \n",
    "    cv2.imshow('Drowsiness Detection', frame)\n",
    "    \n",
    "    # Check for 'q' key press to exit\n",
    "    if cv2.waitKey(1) & 0xFF == ord('q'):\n",
    "        break\n",
    "\n",
    "cap.release()\n",
    "cv2.destroyAllWindows()\n",
    "pygame.mixer.quit()"
   ]
  },
  {
   "cell_type": "code",
   "execution_count": null,
   "id": "f0db1b23-82b2-47da-ac28-9f32c259a8a1",
   "metadata": {},
   "outputs": [],
   "source": []
  }
 ],
 "metadata": {
  "kernelspec": {
   "display_name": "Python 3 (ipykernel)",
   "language": "python",
   "name": "python3"
  },
  "language_info": {
   "codemirror_mode": {
    "name": "ipython",
    "version": 3
   },
   "file_extension": ".py",
   "mimetype": "text/x-python",
   "name": "python",
   "nbconvert_exporter": "python",
   "pygments_lexer": "ipython3",
   "version": "3.12.4"
  }
 },
 "nbformat": 4,
 "nbformat_minor": 5
}
